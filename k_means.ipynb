{
 "cells": [
  {
   "cell_type": "code",
   "execution_count": 16,
   "id": "f5f472f6-b6d0-4ce4-84dd-246da44807ce",
   "metadata": {},
   "outputs": [],
   "source": [
    "import numpy as np\n",
    "import os, re, magic, shutil, glob\n",
    "from sklearn.cluster import KMeans"
   ]
  },
  {
   "cell_type": "code",
   "execution_count": 24,
   "id": "04161ad3-df25-4eb2-a2f3-cfec416222f0",
   "metadata": {},
   "outputs": [
    {
     "name": "stdout",
     "output_type": "stream",
     "text": [
      "22034\n",
      "22034\n",
      "6316\n"
     ]
    }
   ],
   "source": [
    "file_names = glob.glob('./labels/*.txt')\n",
    "\n",
    "widths = []  # List of normalized widths\n",
    "heights = []  # List of normalized heights\n",
    "\n",
    "# Print the file names\n",
    "for file_path in file_names:\n",
    "    with open(file_path, \"r\") as file:\n",
    "        array_list = []\n",
    "        for line in file:\n",
    "            line = line.strip()  # Remove leading/trailing whitespaces\n",
    "            array_list.append(line)\n",
    "\n",
    "            for label in array_list:\n",
    "                width = label.split(' ')[3]\n",
    "                height = label.split(' ')[4]\n",
    "                widths.append(width)\n",
    "                heights.append(height)\n",
    "\n",
    "# Print the array list\n",
    "print(len(widths))\n",
    "print(len(heights))\n",
    "print(len(file_names))"
   ]
  },
  {
   "cell_type": "code",
   "execution_count": 34,
   "id": "5b398d66-dc77-4780-96f4-8b5e61216888",
   "metadata": {},
   "outputs": [
    {
     "name": "stdout",
     "output_type": "stream",
     "text": [
      "(array([[294.21324603, 397.6679124 ],\n",
      "       [ 47.67983249,  50.81831847],\n",
      "       [154.80015741, 211.9332403 ],\n",
      "       [111.84820608,  89.94571413],\n",
      "       [228.72540821, 221.11871436],\n",
      "       [ 16.37440077,  34.79964031],\n",
      "       [234.51968113, 312.91153757],\n",
      "       [ 48.68671524,  98.06038329],\n",
      "       [ 97.88985359, 306.53719717]]), array([[294.21324603, 397.6679124 ],\n",
      "       [ 47.67983249,  50.81831847],\n",
      "       [154.80015741, 211.9332403 ],\n",
      "       [111.84820608,  89.94571413],\n",
      "       [228.72540821, 221.11871436],\n",
      "       [ 16.37440077,  34.79964031],\n",
      "       [234.51968113, 312.91153757],\n",
      "       [ 48.68671524,  98.06038329],\n",
      "       [ 97.88985359, 306.53719717]]))\n"
     ]
    }
   ],
   "source": [
    "# Combine the normalized dimensions\n",
    "dimensions = np.array(list(zip(widths, heights)))\n",
    "image_width = 412\n",
    "image_height = 412\n",
    "# Determine the number of anchor boxes (clusters) you want to generate\n",
    "k = 9\n",
    "\n",
    "# Perform K-means clustering\n",
    "kmeans = KMeans(n_clusters=k, random_state=0)\n",
    "kmeans.fit(dimensions)\n",
    "\n",
    "# Retrieve the centroid values\n",
    "centroids = kmeans.cluster_centers_\n",
    "\n",
    "# Rescale the centroid values by multiplying them by the image width and height\n",
    "anchor_box_dimensions = centroids * image_width, centroids * image_height\n",
    "\n",
    "# Print the resulting anchor box dimensions\n",
    "print(anchor_box_dimensions)\n"
   ]
  },
  {
   "cell_type": "code",
   "execution_count": 35,
   "id": "7e672499-00fe-4f38-84e8-007429bcb249",
   "metadata": {},
   "outputs": [
    {
     "name": "stdout",
     "output_type": "stream",
     "text": [
      "294.21324603,397.6679124,47.67983249,50.81831847,154.80015741,211.9332403,111.84820608,89.94571413,228.72540821,221.11871436,16.37440077,34.79964031,234.51968113,312.91153757,48.68671524,98.06038329,97.88985359,306.53719717, 294.21324603,397.6679124,47.67983249,50.81831847,154.80015741,211.9332403,111.84820608,89.94571413,228.72540821,221.11871436,16.37440077,34.79964031,234.51968113,312.91153757,48.68671524,98.06038329,97.88985359,306.53719717\n"
     ]
    }
   ],
   "source": [
    "result = [\n",
    "    [[294.21324603, 397.6679124 ],\n",
    "       [ 47.67983249,  50.81831847],\n",
    "       [154.80015741, 211.9332403 ],\n",
    "       [111.84820608,  89.94571413],\n",
    "       [228.72540821, 221.11871436],\n",
    "       [ 16.37440077,  34.79964031],\n",
    "       [234.51968113, 312.91153757],\n",
    "       [ 48.68671524,  98.06038329],\n",
    "       [ 97.88985359, 306.53719717]],\n",
    "    \n",
    "    [[294.21324603, 397.6679124 ],\n",
    "       [ 47.67983249,  50.81831847],\n",
    "       [154.80015741, 211.9332403 ],\n",
    "       [111.84820608,  89.94571413],\n",
    "       [228.72540821, 221.11871436],\n",
    "       [ 16.37440077,  34.79964031],\n",
    "       [234.51968113, 312.91153757],\n",
    "       [ 48.68671524,  98.06038329],\n",
    "       [ 97.88985359, 306.53719717]]\n",
    "]\n",
    "\n",
    "formatted_result = []\n",
    "for arr in result:\n",
    "    formatted_result.append(','.join([f'{val[0]},{val[1]}' for val in arr]))\n",
    "\n",
    "formatted_result_str = ', '.join(formatted_result)\n",
    "\n",
    "print(formatted_result_str)"
   ]
  },
  {
   "cell_type": "code",
   "execution_count": null,
   "id": "cb2abfb0-3b4a-4ebd-874a-c0922dd5e9d6",
   "metadata": {},
   "outputs": [],
   "source": []
  },
  {
   "cell_type": "code",
   "execution_count": 29,
   "id": "59584d71-c7ca-474d-8a1c-8873601ecc98",
   "metadata": {},
   "outputs": [
    {
     "name": "stdout",
     "output_type": "stream",
     "text": [
      "9\n"
     ]
    }
   ],
   "source": [
    "print(len(anchor_box_dimensions[1]))"
   ]
  },
  {
   "cell_type": "code",
   "execution_count": 32,
   "id": "e7be4331-577f-4d1f-974e-829ec75503ac",
   "metadata": {},
   "outputs": [
    {
     "name": "stdout",
     "output_type": "stream",
     "text": [
      "[545.57990282 737.42302202]\n",
      "[88.41600005 94.23591095]\n",
      "[287.05660258 393.00241648]\n",
      "[207.40783846 166.79253786]\n",
      "[424.14129095 410.03567421]\n",
      "[30.36418006 64.53137184]\n",
      "[434.88601064 580.25343375]\n",
      "[ 90.28313215 181.84012824]\n",
      "[181.52390326 568.43305494]\n",
      "[731.24845614 988.37850072]\n",
      "[118.50521473 126.30572358]\n",
      "[384.74602231 526.74669434]\n",
      "[277.99165783 223.55439629]\n",
      "[568.48256798 549.57661045]\n",
      "[40.69753977 86.4923099 ]\n",
      "[582.88386766 777.72187979]\n",
      "[121.00775828 243.72289439]\n",
      "[243.29905359 761.87885898]\n"
     ]
    }
   ],
   "source": [
    "for anchor in anchor_box_dimensions:\n",
    "    for a in anchor:\n",
    "        print(a)"
   ]
  },
  {
   "cell_type": "code",
   "execution_count": null,
   "id": "a50f4e65-d217-41fc-9a9e-051793cc4e1a",
   "metadata": {},
   "outputs": [],
   "source": []
  }
 ],
 "metadata": {
  "kernelspec": {
   "display_name": "torch-gpu",
   "language": "python",
   "name": "torch"
  },
  "language_info": {
   "codemirror_mode": {
    "name": "ipython",
    "version": 3
   },
   "file_extension": ".py",
   "mimetype": "text/x-python",
   "name": "python",
   "nbconvert_exporter": "python",
   "pygments_lexer": "ipython3",
   "version": "3.10.6"
  }
 },
 "nbformat": 4,
 "nbformat_minor": 5
}
